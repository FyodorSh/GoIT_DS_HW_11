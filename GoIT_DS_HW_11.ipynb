{
  "cells": [
    {
      "cell_type": "code",
      "execution_count": 1,
      "id": "97bf4453",
      "metadata": {
        "colab": {
          "base_uri": "https://localhost:8080/"
        },
        "id": "97bf4453",
        "outputId": "494d5b51-7b93-4929-8e27-5bcaf0bdd9e1"
      },
      "outputs": [
        {
          "output_type": "stream",
          "name": "stdout",
          "text": [
            "Downloading data from https://storage.googleapis.com/tensorflow/tf-keras-datasets/imdb.npz\n",
            "17464789/17464789 [==============================] - 0s 0us/step\n"
          ]
        }
      ],
      "source": [
        "import numpy as np\n",
        "import pandas as pd\n",
        "import matplotlib.pyplot as plt\n",
        "\n",
        "from tensorflow.keras.datasets import imdb\n",
        "from tensorflow.keras.preprocessing.sequence import pad_sequences\n",
        "from tensorflow.keras.models import Sequential\n",
        "from tensorflow.keras.layers import Embedding, SimpleRNN, LSTM, Bidirectional, Dense\n",
        "\n",
        "max_features = 10000\n",
        "maxlen = 200\n",
        "\n",
        "(X_train, y_train), (X_test, y_test) = imdb.load_data(num_words=max_features)\n",
        "X_train = pad_sequences(X_train, maxlen=maxlen)\n",
        "X_test = pad_sequences(X_test, maxlen=maxlen)"
      ]
    },
    {
      "cell_type": "markdown",
      "id": "f655e14c",
      "metadata": {
        "id": "f655e14c"
      },
      "source": [
        "   ## RNN"
      ]
    },
    {
      "cell_type": "code",
      "execution_count": 2,
      "id": "8b061191",
      "metadata": {
        "colab": {
          "base_uri": "https://localhost:8080/"
        },
        "id": "8b061191",
        "outputId": "eb942538-e651-4db7-d8c9-0d17858268c8"
      },
      "outputs": [
        {
          "output_type": "stream",
          "name": "stdout",
          "text": [
            "Model: \"sequential\"\n",
            "_________________________________________________________________\n",
            " Layer (type)                Output Shape              Param #   \n",
            "=================================================================\n",
            " embedding (Embedding)       (None, None, 32)          320000    \n",
            "                                                                 \n",
            " simple_rnn (SimpleRNN)      (None, 32)                2080      \n",
            "                                                                 \n",
            " dense (Dense)               (None, 1)                 33        \n",
            "                                                                 \n",
            "=================================================================\n",
            "Total params: 322113 (1.23 MB)\n",
            "Trainable params: 322113 (1.23 MB)\n",
            "Non-trainable params: 0 (0.00 Byte)\n",
            "_________________________________________________________________\n"
          ]
        }
      ],
      "source": [
        "model_rnn = Sequential()\n",
        "model_rnn.add(Embedding(max_features, 32))\n",
        "model_rnn.add(SimpleRNN(32))\n",
        "model_rnn.add(Dense(1, activation='sigmoid'))\n",
        "\n",
        "model_rnn.compile(optimizer='adam', loss='binary_crossentropy', metrics=['accuracy'])\n",
        "\n",
        "model_rnn.summary()"
      ]
    },
    {
      "cell_type": "code",
      "execution_count": 3,
      "id": "e1397e54",
      "metadata": {
        "colab": {
          "base_uri": "https://localhost:8080/"
        },
        "id": "e1397e54",
        "outputId": "fc6337a2-2ff3-4b68-ed9d-4df2c746ad5b"
      },
      "outputs": [
        {
          "output_type": "stream",
          "name": "stdout",
          "text": [
            "Epoch 1/10\n",
            "196/196 [==============================] - 20s 91ms/step - loss: 0.5732 - accuracy: 0.6894 - val_loss: 0.4301 - val_accuracy: 0.8121\n",
            "Epoch 2/10\n",
            "196/196 [==============================] - 18s 93ms/step - loss: 0.3436 - accuracy: 0.8554 - val_loss: 0.3624 - val_accuracy: 0.8417\n",
            "Epoch 3/10\n",
            "196/196 [==============================] - 15s 76ms/step - loss: 0.2450 - accuracy: 0.9044 - val_loss: 0.3635 - val_accuracy: 0.8500\n",
            "Epoch 4/10\n",
            "196/196 [==============================] - 15s 74ms/step - loss: 0.1846 - accuracy: 0.9324 - val_loss: 0.4321 - val_accuracy: 0.8127\n",
            "Epoch 5/10\n",
            "196/196 [==============================] - 15s 76ms/step - loss: 0.1247 - accuracy: 0.9573 - val_loss: 0.4316 - val_accuracy: 0.8314\n",
            "Epoch 6/10\n",
            "196/196 [==============================] - 15s 75ms/step - loss: 0.0664 - accuracy: 0.9808 - val_loss: 0.5198 - val_accuracy: 0.8359\n",
            "Epoch 7/10\n",
            "196/196 [==============================] - 17s 88ms/step - loss: 0.0530 - accuracy: 0.9845 - val_loss: 0.5618 - val_accuracy: 0.8256\n",
            "Epoch 8/10\n",
            "196/196 [==============================] - 17s 89ms/step - loss: 0.0250 - accuracy: 0.9942 - val_loss: 0.6230 - val_accuracy: 0.8331\n",
            "Epoch 9/10\n",
            "196/196 [==============================] - 15s 75ms/step - loss: 0.0187 - accuracy: 0.9959 - val_loss: 0.6519 - val_accuracy: 0.8292\n",
            "Epoch 10/10\n",
            "196/196 [==============================] - 15s 75ms/step - loss: 0.0192 - accuracy: 0.9943 - val_loss: 0.6980 - val_accuracy: 0.8134\n",
            "Test Accuracy: 81.34%\n"
          ]
        }
      ],
      "source": [
        "hist_rnn = model_rnn.fit(X_train, y_train, validation_data=(X_test, y_test), epochs=10, batch_size=128)\n",
        "\n",
        "loss, accuracy = model_rnn.evaluate(X_test, y_test, verbose=0)\n",
        "print('Test Accuracy: {:.2f}%'.format(accuracy * 100))"
      ]
    },
    {
      "cell_type": "markdown",
      "id": "40d0dc79",
      "metadata": {
        "id": "40d0dc79"
      },
      "source": [
        "## LSTM"
      ]
    },
    {
      "cell_type": "code",
      "execution_count": 4,
      "id": "44f8f1ae",
      "metadata": {
        "colab": {
          "base_uri": "https://localhost:8080/"
        },
        "id": "44f8f1ae",
        "outputId": "91049d97-7366-4e7a-e470-668b12791e06"
      },
      "outputs": [
        {
          "output_type": "stream",
          "name": "stdout",
          "text": [
            "Model: \"sequential_1\"\n",
            "_________________________________________________________________\n",
            " Layer (type)                Output Shape              Param #   \n",
            "=================================================================\n",
            " embedding_1 (Embedding)     (None, None, 32)          320000    \n",
            "                                                                 \n",
            " lstm (LSTM)                 (None, 32)                8320      \n",
            "                                                                 \n",
            " dense_1 (Dense)             (None, 1)                 33        \n",
            "                                                                 \n",
            "=================================================================\n",
            "Total params: 328353 (1.25 MB)\n",
            "Trainable params: 328353 (1.25 MB)\n",
            "Non-trainable params: 0 (0.00 Byte)\n",
            "_________________________________________________________________\n"
          ]
        }
      ],
      "source": [
        "model_lstm = Sequential()\n",
        "model_lstm.add(Embedding(max_features, 32))\n",
        "model_lstm.add(LSTM(32))\n",
        "model_lstm.add(Dense(1, activation='sigmoid'))\n",
        "\n",
        "model_lstm.compile(optimizer='adam', loss='binary_crossentropy', metrics=['accuracy'])\n",
        "\n",
        "model_lstm.summary()"
      ]
    },
    {
      "cell_type": "code",
      "execution_count": 5,
      "id": "a6adbf6d",
      "metadata": {
        "colab": {
          "base_uri": "https://localhost:8080/"
        },
        "id": "a6adbf6d",
        "outputId": "a2dae690-f9da-4770-ece7-ea8cbe24da83"
      },
      "outputs": [
        {
          "output_type": "stream",
          "name": "stdout",
          "text": [
            "Epoch 1/10\n",
            "196/196 [==============================] - 39s 187ms/step - loss: 0.4505 - accuracy: 0.7846 - val_loss: 0.3088 - val_accuracy: 0.8701\n",
            "Epoch 2/10\n",
            "196/196 [==============================] - 37s 189ms/step - loss: 0.2334 - accuracy: 0.9113 - val_loss: 0.2989 - val_accuracy: 0.8742\n",
            "Epoch 3/10\n",
            "196/196 [==============================] - 36s 183ms/step - loss: 0.1783 - accuracy: 0.9362 - val_loss: 0.3354 - val_accuracy: 0.8648\n",
            "Epoch 4/10\n",
            "196/196 [==============================] - 35s 180ms/step - loss: 0.1424 - accuracy: 0.9505 - val_loss: 0.3750 - val_accuracy: 0.8614\n",
            "Epoch 5/10\n",
            "196/196 [==============================] - 32s 162ms/step - loss: 0.1124 - accuracy: 0.9628 - val_loss: 0.3852 - val_accuracy: 0.8612\n",
            "Epoch 6/10\n",
            "196/196 [==============================] - 35s 181ms/step - loss: 0.0898 - accuracy: 0.9715 - val_loss: 0.4149 - val_accuracy: 0.8563\n",
            "Epoch 7/10\n",
            "196/196 [==============================] - 34s 173ms/step - loss: 0.0819 - accuracy: 0.9740 - val_loss: 0.4736 - val_accuracy: 0.8546\n",
            "Epoch 8/10\n",
            "196/196 [==============================] - 36s 182ms/step - loss: 0.0665 - accuracy: 0.9786 - val_loss: 0.5925 - val_accuracy: 0.8469\n",
            "Epoch 9/10\n",
            "196/196 [==============================] - 35s 179ms/step - loss: 0.0593 - accuracy: 0.9817 - val_loss: 0.6394 - val_accuracy: 0.8432\n",
            "Epoch 10/10\n",
            "196/196 [==============================] - 36s 182ms/step - loss: 0.0598 - accuracy: 0.9815 - val_loss: 0.5367 - val_accuracy: 0.8421\n",
            "Test Accuracy: 84.21%\n"
          ]
        }
      ],
      "source": [
        "hist_lstm = model_lstm.fit(X_train, y_train, validation_data=(X_test, y_test), epochs=10, batch_size=128)\n",
        "\n",
        "loss, accuracy = model_lstm.evaluate(X_test, y_test, verbose=0)\n",
        "print('Test Accuracy: {:.2f}%'.format(accuracy * 100))"
      ]
    },
    {
      "cell_type": "markdown",
      "id": "2de3c3f8",
      "metadata": {
        "id": "2de3c3f8"
      },
      "source": [
        "## Bidirectional"
      ]
    },
    {
      "cell_type": "code",
      "execution_count": 6,
      "id": "9dc49b97",
      "metadata": {
        "colab": {
          "base_uri": "https://localhost:8080/"
        },
        "id": "9dc49b97",
        "outputId": "75f62ccd-8d76-4807-fcaa-3f77b9380f09"
      },
      "outputs": [
        {
          "output_type": "stream",
          "name": "stdout",
          "text": [
            "Model: \"sequential_2\"\n",
            "_________________________________________________________________\n",
            " Layer (type)                Output Shape              Param #   \n",
            "=================================================================\n",
            " embedding_2 (Embedding)     (None, None, 32)          320000    \n",
            "                                                                 \n",
            " bidirectional (Bidirection  (None, 64)                16640     \n",
            " al)                                                             \n",
            "                                                                 \n",
            " dense_2 (Dense)             (None, 1)                 65        \n",
            "                                                                 \n",
            "=================================================================\n",
            "Total params: 336705 (1.28 MB)\n",
            "Trainable params: 336705 (1.28 MB)\n",
            "Non-trainable params: 0 (0.00 Byte)\n",
            "_________________________________________________________________\n"
          ]
        }
      ],
      "source": [
        "model_bidirectional = Sequential()\n",
        "model_bidirectional.add(Embedding(max_features, 32))\n",
        "model_bidirectional.add(Bidirectional(LSTM(32)))\n",
        "model_bidirectional.add(Dense(1, activation='sigmoid'))\n",
        "\n",
        "model_bidirectional.compile(optimizer='adam', loss='binary_crossentropy', metrics=['accuracy'])\n",
        "\n",
        "model_bidirectional.summary()"
      ]
    },
    {
      "cell_type": "code",
      "execution_count": 7,
      "id": "a22fd65e",
      "metadata": {
        "colab": {
          "base_uri": "https://localhost:8080/"
        },
        "id": "a22fd65e",
        "outputId": "7690570f-e546-4172-b4b7-21c9d01854c4"
      },
      "outputs": [
        {
          "output_type": "stream",
          "name": "stdout",
          "text": [
            "Epoch 1/10\n",
            "196/196 [==============================] - 60s 281ms/step - loss: 0.4796 - accuracy: 0.7646 - val_loss: 0.3146 - val_accuracy: 0.8692\n",
            "Epoch 2/10\n",
            "196/196 [==============================] - 55s 283ms/step - loss: 0.2505 - accuracy: 0.9036 - val_loss: 0.3117 - val_accuracy: 0.8734\n",
            "Epoch 3/10\n",
            "196/196 [==============================] - 64s 329ms/step - loss: 0.1848 - accuracy: 0.9333 - val_loss: 0.3133 - val_accuracy: 0.8730\n",
            "Epoch 4/10\n",
            "196/196 [==============================] - 66s 336ms/step - loss: 0.1482 - accuracy: 0.9474 - val_loss: 0.3557 - val_accuracy: 0.8650\n",
            "Epoch 5/10\n",
            "196/196 [==============================] - 67s 344ms/step - loss: 0.1165 - accuracy: 0.9608 - val_loss: 0.3920 - val_accuracy: 0.8631\n",
            "Epoch 6/10\n",
            "196/196 [==============================] - 63s 320ms/step - loss: 0.1053 - accuracy: 0.9656 - val_loss: 0.4224 - val_accuracy: 0.8588\n",
            "Epoch 7/10\n",
            "196/196 [==============================] - 54s 277ms/step - loss: 0.0799 - accuracy: 0.9748 - val_loss: 0.5076 - val_accuracy: 0.8549\n",
            "Epoch 8/10\n",
            "196/196 [==============================] - 64s 329ms/step - loss: 0.0776 - accuracy: 0.9745 - val_loss: 0.4756 - val_accuracy: 0.8514\n",
            "Epoch 9/10\n",
            "196/196 [==============================] - 62s 319ms/step - loss: 0.0668 - accuracy: 0.9799 - val_loss: 0.4520 - val_accuracy: 0.8424\n",
            "Epoch 10/10\n",
            "196/196 [==============================] - 63s 321ms/step - loss: 0.0902 - accuracy: 0.9702 - val_loss: 0.5475 - val_accuracy: 0.8538\n",
            "Test Accuracy: 85.38%\n"
          ]
        }
      ],
      "source": [
        "hist_bi = model_bidirectional.fit(X_train, y_train, validation_data=(X_test, y_test), epochs=10, batch_size=128)\n",
        "\n",
        "loss, accuracy = model_bidirectional.evaluate(X_test, y_test, verbose=0)\n",
        "print('Test Accuracy: {:.2f}%'.format(accuracy * 100))"
      ]
    },
    {
      "cell_type": "markdown",
      "id": "6e0180c5",
      "metadata": {
        "id": "6e0180c5"
      },
      "source": [
        "## Deep"
      ]
    },
    {
      "cell_type": "code",
      "execution_count": 8,
      "id": "db308a90",
      "metadata": {
        "colab": {
          "base_uri": "https://localhost:8080/"
        },
        "id": "db308a90",
        "outputId": "d2d1e546-50e9-4198-a85d-c1f27b568943"
      },
      "outputs": [
        {
          "output_type": "stream",
          "name": "stdout",
          "text": [
            "Model: \"sequential_3\"\n",
            "_________________________________________________________________\n",
            " Layer (type)                Output Shape              Param #   \n",
            "=================================================================\n",
            " embedding_3 (Embedding)     (None, None, 32)          320000    \n",
            "                                                                 \n",
            " lstm_2 (LSTM)               (None, None, 32)          8320      \n",
            "                                                                 \n",
            " lstm_3 (LSTM)               (None, 32)                8320      \n",
            "                                                                 \n",
            " dense_3 (Dense)             (None, 1)                 33        \n",
            "                                                                 \n",
            "=================================================================\n",
            "Total params: 336673 (1.28 MB)\n",
            "Trainable params: 336673 (1.28 MB)\n",
            "Non-trainable params: 0 (0.00 Byte)\n",
            "_________________________________________________________________\n"
          ]
        }
      ],
      "source": [
        "model_deep = Sequential()\n",
        "model_deep.add(Embedding(max_features, 32))\n",
        "model_deep.add(LSTM(32, return_sequences=True))\n",
        "model_deep.add(LSTM(32))\n",
        "model_deep.add(Dense(1, activation='sigmoid'))\n",
        "\n",
        "model_deep.compile(optimizer='adam', loss='binary_crossentropy', metrics=['accuracy'])\n",
        "\n",
        "model_deep.summary()"
      ]
    },
    {
      "cell_type": "code",
      "execution_count": 9,
      "id": "bf4dd46e",
      "metadata": {
        "colab": {
          "base_uri": "https://localhost:8080/"
        },
        "id": "bf4dd46e",
        "outputId": "c83d3dd2-4f2b-4ca4-a3cc-c44b9d87bcd1"
      },
      "outputs": [
        {
          "output_type": "stream",
          "name": "stdout",
          "text": [
            "Epoch 1/10\n",
            "196/196 [==============================] - 76s 359ms/step - loss: 0.4232 - accuracy: 0.7883 - val_loss: 0.3797 - val_accuracy: 0.8327\n",
            "Epoch 2/10\n",
            "196/196 [==============================] - 71s 362ms/step - loss: 0.2391 - accuracy: 0.9089 - val_loss: 0.3271 - val_accuracy: 0.8602\n",
            "Epoch 3/10\n",
            "196/196 [==============================] - 70s 359ms/step - loss: 0.1788 - accuracy: 0.9353 - val_loss: 0.3387 - val_accuracy: 0.8558\n",
            "Epoch 4/10\n",
            "196/196 [==============================] - 72s 366ms/step - loss: 0.1460 - accuracy: 0.9495 - val_loss: 0.4097 - val_accuracy: 0.8356\n",
            "Epoch 5/10\n",
            "196/196 [==============================] - 71s 361ms/step - loss: 0.1147 - accuracy: 0.9618 - val_loss: 0.4219 - val_accuracy: 0.8565\n",
            "Epoch 6/10\n",
            "196/196 [==============================] - 72s 370ms/step - loss: 0.0928 - accuracy: 0.9709 - val_loss: 0.4457 - val_accuracy: 0.8500\n",
            "Epoch 7/10\n",
            "196/196 [==============================] - 71s 363ms/step - loss: 0.0721 - accuracy: 0.9774 - val_loss: 0.4523 - val_accuracy: 0.8510\n",
            "Epoch 8/10\n",
            "196/196 [==============================] - 71s 363ms/step - loss: 0.0512 - accuracy: 0.9851 - val_loss: 0.5350 - val_accuracy: 0.8467\n",
            "Epoch 9/10\n",
            "196/196 [==============================] - 72s 370ms/step - loss: 0.0459 - accuracy: 0.9873 - val_loss: 0.6301 - val_accuracy: 0.8496\n",
            "Epoch 10/10\n",
            "196/196 [==============================] - 71s 362ms/step - loss: 0.0425 - accuracy: 0.9874 - val_loss: 0.5950 - val_accuracy: 0.8438\n",
            "Test Accuracy: 84.38%\n"
          ]
        }
      ],
      "source": [
        "hist_deep = model_deep.fit(X_train, y_train, validation_data=(X_test, y_test), epochs=10, batch_size=128)\n",
        "\n",
        "loss, accuracy = model_deep.evaluate(X_test, y_test, verbose=0)\n",
        "print('Test Accuracy: {:.2f}%'.format(accuracy * 100))"
      ]
    },
    {
      "cell_type": "code",
      "source": [
        "def display_plot(hist_rnn, hist_lstm, hist_bi, hist_deep, field_name):\n",
        "    acc_df = pd.DataFrame({'rnn': hist_rnn.history[field_name],'lstm': hist_lstm.history[field_name], 'bi': hist_bi.history[field_name], 'deep':hist_deep.history[field_name]})\n",
        "\n",
        "    acc_df.plot(figsize=(8, 5))\n",
        "    plt.grid(True)\n",
        "    plt.gca().set_ylim(0, 1)\n",
        "    plt.show()\n"
      ],
      "metadata": {
        "id": "ifA_03XgrKbY"
      },
      "id": "ifA_03XgrKbY",
      "execution_count": 28,
      "outputs": []
    },
    {
      "cell_type": "code",
      "source": [
        "display_plot(hist_rnn, hist_lstm, hist_bi, hist_deep, 'accuracy')\n",
        "display_plot(hist_rnn, hist_lstm, hist_bi, hist_deep, 'loss')"
      ],
      "metadata": {
        "colab": {
          "base_uri": "https://localhost:8080/",
          "height": 885
        },
        "id": "OyMbvER8nE6r",
        "outputId": "e6c45690-5618-4e3e-e5c9-0dbca10b4481"
      },
      "id": "OyMbvER8nE6r",
      "execution_count": 30,
      "outputs": [
        {
          "output_type": "display_data",
          "data": {
            "text/plain": [
              "<Figure size 800x500 with 1 Axes>"
            ],
            "image/png": "[encoded data removed]"
          },
          "metadata": {}
        },
        {
          "output_type": "display_data",
          "data": {
            "text/plain": [
              "<Figure size 800x500 with 1 Axes>"
            ],
            "image/png": "[encoded data removed]"
          },
          "metadata": {}
        }
      ]
    },
    {
      "cell_type": "markdown",
      "id": "4de6e981",
      "metadata": {
        "id": "4de6e981"
      },
      "source": [
        "Кожна з моделей має дуже схожі значення точності на тестовому прикладі.\n",
        "LSTM, Bidirectional та Deep швидше до 5-ої епохи мають кращу точніть ніж RNN і вже потім вони наближаються ща точністю."
      ]
    }
  ],
  "metadata": {
    "kernelspec": {
      "display_name": "Python 3",
      "name": "python3"
    },
    "language_info": {
      "codemirror_mode": {
        "name": "ipython",
        "version": 3
      },
      "file_extension": ".py",
      "mimetype": "text/x-python",
      "name": "python",
      "nbconvert_exporter": "python",
      "pygments_lexer": "ipython3",
      "version": "3.10.8"
    },
    "colab": {
      "provenance": []
    }
  },
  "nbformat": 4,
  "nbformat_minor": 5
}