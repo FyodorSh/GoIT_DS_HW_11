{
 "cells": [
  {
   "cell_type": "code",
   "execution_count": 39,
   "id": "5152c08f",
   "metadata": {},
   "outputs": [],
   "source": [
    "import numpy as np\n",
    "from tensorflow.keras.datasets import imdb\n",
    "from tensorflow.keras.preprocessing.sequence import pad_sequences\n",
    "from tensorflow.keras.models import Sequential\n",
    "from tensorflow.keras.layers import Embedding, SimpleRNN, LSTM, Bidirectional, Dense\n",
    "\n",
    "max_features = 10000\n",
    "maxlen = 200\n",
    "\n",
    "(X_train, y_train), (X_test, y_test) = imdb.load_data(num_words=max_features)\n",
    "X_train = pad_sequences(X_train, maxlen=maxlen)\n",
    "X_test = pad_sequences(X_test, maxlen=maxlen)"
   ]
  },
  {
   "cell_type": "markdown",
   "id": "15b709c6",
   "metadata": {},
   "source": [
    "   ## RNN"
   ]
  },
  {
   "cell_type": "code",
   "execution_count": 40,
   "id": "f7324764",
   "metadata": {},
   "outputs": [
    {
     "name": "stdout",
     "output_type": "stream",
     "text": [
      "Model: \"sequential_16\"\n",
      "_________________________________________________________________\n",
      " Layer (type)                Output Shape              Param #   \n",
      "=================================================================\n",
      " embedding_16 (Embedding)    (None, None, 32)          320000    \n",
      "                                                                 \n",
      " simple_rnn_7 (SimpleRNN)    (None, 32)                2080      \n",
      "                                                                 \n",
      " dense_13 (Dense)            (None, 1)                 33        \n",
      "                                                                 \n",
      "=================================================================\n",
      "Total params: 322113 (1.23 MB)\n",
      "Trainable params: 322113 (1.23 MB)\n",
      "Non-trainable params: 0 (0.00 Byte)\n",
      "_________________________________________________________________\n"
     ]
    }
   ],
   "source": [
    "model_rnn = Sequential()\n",
    "model_rnn.add(Embedding(max_features, 32))\n",
    "model_rnn.add(SimpleRNN(32))\n",
    "model_rnn.add(Dense(1, activation='sigmoid'))\n",
    "\n",
    "model_rnn.compile(optimizer='adam', loss='binary_crossentropy', metrics=['accuracy'])\n",
    "\n",
    "model_rnn.summary()"
   ]
  },
  {
   "cell_type": "code",
   "execution_count": 41,
   "id": "5ef03e65",
   "metadata": {},
   "outputs": [
    {
     "name": "stdout",
     "output_type": "stream",
     "text": [
      "Epoch 1/10\n",
      "196/196 [==============================] - 12s 55ms/step - loss: 0.6323 - accuracy: 0.6335 - val_loss: 0.5363 - val_accuracy: 0.7574\n",
      "Epoch 2/10\n",
      "196/196 [==============================] - 11s 55ms/step - loss: 0.3859 - accuracy: 0.8363 - val_loss: 0.3872 - val_accuracy: 0.8352\n",
      "Epoch 3/10\n",
      "196/196 [==============================] - 11s 57ms/step - loss: 0.2463 - accuracy: 0.9036 - val_loss: 0.4172 - val_accuracy: 0.8203\n",
      "Epoch 4/10\n",
      "196/196 [==============================] - 10s 52ms/step - loss: 0.1331 - accuracy: 0.9561 - val_loss: 0.4368 - val_accuracy: 0.8379\n",
      "Epoch 5/10\n",
      "196/196 [==============================] - 13s 66ms/step - loss: 0.0641 - accuracy: 0.9828 - val_loss: 0.5090 - val_accuracy: 0.8261\n",
      "Epoch 6/10\n",
      "196/196 [==============================] - 12s 61ms/step - loss: 0.0294 - accuracy: 0.9941 - val_loss: 0.5756 - val_accuracy: 0.8297\n",
      "Epoch 7/10\n",
      "196/196 [==============================] - 12s 59ms/step - loss: 0.0181 - accuracy: 0.9965 - val_loss: 0.6334 - val_accuracy: 0.8329\n",
      "Epoch 8/10\n",
      "196/196 [==============================] - 12s 61ms/step - loss: 0.0212 - accuracy: 0.9947 - val_loss: 0.6704 - val_accuracy: 0.8135\n",
      "Epoch 9/10\n",
      "196/196 [==============================] - 12s 60ms/step - loss: 0.0124 - accuracy: 0.9972 - val_loss: 0.7295 - val_accuracy: 0.8098\n",
      "Epoch 10/10\n",
      "196/196 [==============================] - 12s 60ms/step - loss: 0.0109 - accuracy: 0.9979 - val_loss: 0.7309 - val_accuracy: 0.8190\n",
      "Test Accuracy: 81.90%\n"
     ]
    }
   ],
   "source": [
    "hist_rnn = model_rnn.fit(X_train, y_train, validation_data=(X_test, y_test), epochs=10, batch_size=128)\n",
    "\n",
    "loss, accuracy = model_rnn.evaluate(X_test, y_test, verbose=0)\n",
    "print('Test Accuracy: {:.2f}%'.format(accuracy * 100))"
   ]
  },
  {
   "cell_type": "markdown",
   "id": "89e691dc",
   "metadata": {},
   "source": [
    "## LSTM"
   ]
  },
  {
   "cell_type": "code",
   "execution_count": 42,
   "id": "e155d51e",
   "metadata": {},
   "outputs": [
    {
     "name": "stdout",
     "output_type": "stream",
     "text": [
      "Model: \"sequential_17\"\n",
      "_________________________________________________________________\n",
      " Layer (type)                Output Shape              Param #   \n",
      "=================================================================\n",
      " embedding_17 (Embedding)    (None, None, 32)          320000    \n",
      "                                                                 \n",
      " lstm_14 (LSTM)              (None, 32)                8320      \n",
      "                                                                 \n",
      " dense_14 (Dense)            (None, 1)                 33        \n",
      "                                                                 \n",
      "=================================================================\n",
      "Total params: 328353 (1.25 MB)\n",
      "Trainable params: 328353 (1.25 MB)\n",
      "Non-trainable params: 0 (0.00 Byte)\n",
      "_________________________________________________________________\n"
     ]
    }
   ],
   "source": [
    "model_lstm = Sequential()\n",
    "model_lstm.add(Embedding(max_features, 32))\n",
    "model_lstm.add(LSTM(32))\n",
    "model_lstm.add(Dense(1, activation='sigmoid'))\n",
    "\n",
    "model_lstm.compile(optimizer='adam', loss='binary_crossentropy', metrics=['accuracy'])\n",
    "\n",
    "model_lstm.summary()"
   ]
  },
  {
   "cell_type": "code",
   "execution_count": 43,
   "id": "8e063911",
   "metadata": {},
   "outputs": [
    {
     "name": "stdout",
     "output_type": "stream",
     "text": [
      "Epoch 1/10\n",
      "196/196 [==============================] - 34s 165ms/step - loss: 0.4693 - accuracy: 0.7725 - val_loss: 0.3217 - val_accuracy: 0.8641\n",
      "Epoch 2/10\n",
      "196/196 [==============================] - 32s 165ms/step - loss: 0.2487 - accuracy: 0.9036 - val_loss: 0.2992 - val_accuracy: 0.8741\n",
      "Epoch 3/10\n",
      "196/196 [==============================] - 32s 162ms/step - loss: 0.1892 - accuracy: 0.9325 - val_loss: 0.3363 - val_accuracy: 0.8643\n",
      "Epoch 4/10\n",
      "196/196 [==============================] - 31s 159ms/step - loss: 0.1502 - accuracy: 0.9482 - val_loss: 0.3542 - val_accuracy: 0.8660\n",
      "Epoch 5/10\n",
      "196/196 [==============================] - 31s 159ms/step - loss: 0.1218 - accuracy: 0.9595 - val_loss: 0.4029 - val_accuracy: 0.8616\n",
      "Epoch 6/10\n",
      "196/196 [==============================] - 31s 160ms/step - loss: 0.0989 - accuracy: 0.9680 - val_loss: 0.4021 - val_accuracy: 0.8528\n",
      "Epoch 7/10\n",
      "196/196 [==============================] - 31s 159ms/step - loss: 0.0817 - accuracy: 0.9735 - val_loss: 0.5130 - val_accuracy: 0.8545\n",
      "Epoch 8/10\n",
      "196/196 [==============================] - 31s 160ms/step - loss: 0.0691 - accuracy: 0.9784 - val_loss: 0.6391 - val_accuracy: 0.8452\n",
      "Epoch 9/10\n",
      "196/196 [==============================] - 32s 163ms/step - loss: 0.0626 - accuracy: 0.9801 - val_loss: 0.5347 - val_accuracy: 0.8494\n",
      "Epoch 10/10\n",
      "196/196 [==============================] - 30s 155ms/step - loss: 0.0618 - accuracy: 0.9803 - val_loss: 0.6518 - val_accuracy: 0.8474\n",
      "Test Accuracy: 84.74%\n"
     ]
    }
   ],
   "source": [
    "hist_lstm = model_lstm.fit(X_train, y_train, validation_data=(X_test, y_test), epochs=10, batch_size=128)\n",
    "\n",
    "loss, accuracy = model_lstm.evaluate(X_test, y_test, verbose=0)\n",
    "print('Test Accuracy: {:.2f}%'.format(accuracy * 100))"
   ]
  },
  {
   "cell_type": "markdown",
   "id": "5b9ffab7",
   "metadata": {},
   "source": [
    "## Bidirectional"
   ]
  },
  {
   "cell_type": "code",
   "execution_count": 44,
   "id": "acdefa00",
   "metadata": {},
   "outputs": [
    {
     "name": "stdout",
     "output_type": "stream",
     "text": [
      "Model: \"sequential_18\"\n",
      "_________________________________________________________________\n",
      " Layer (type)                Output Shape              Param #   \n",
      "=================================================================\n",
      " embedding_18 (Embedding)    (None, None, 32)          320000    \n",
      "                                                                 \n",
      " bidirectional_4 (Bidirecti  (None, 64)                16640     \n",
      " onal)                                                           \n",
      "                                                                 \n",
      " dense_15 (Dense)            (None, 1)                 65        \n",
      "                                                                 \n",
      "=================================================================\n",
      "Total params: 336705 (1.28 MB)\n",
      "Trainable params: 336705 (1.28 MB)\n",
      "Non-trainable params: 0 (0.00 Byte)\n",
      "_________________________________________________________________\n"
     ]
    }
   ],
   "source": [
    "model_bidirectional = Sequential()\n",
    "model_bidirectional.add(Embedding(max_features, 32))\n",
    "model_bidirectional.add(Bidirectional(LSTM(32)))\n",
    "model_bidirectional.add(Dense(1, activation='sigmoid'))\n",
    "\n",
    "model_bidirectional.compile(optimizer='adam', loss='binary_crossentropy', metrics=['accuracy'])\n",
    "\n",
    "model_bidirectional.summary()"
   ]
  },
  {
   "cell_type": "code",
   "execution_count": 45,
   "id": "762dc3ef",
   "metadata": {},
   "outputs": [
    {
     "name": "stdout",
     "output_type": "stream",
     "text": [
      "Epoch 1/10\n",
      "196/196 [==============================] - 57s 274ms/step - loss: 0.4829 - accuracy: 0.7684 - val_loss: 0.3360 - val_accuracy: 0.8596\n",
      "Epoch 2/10\n",
      "196/196 [==============================] - 57s 294ms/step - loss: 0.2527 - accuracy: 0.9023 - val_loss: 0.3177 - val_accuracy: 0.8707\n",
      "Epoch 3/10\n",
      "196/196 [==============================] - 55s 283ms/step - loss: 0.1858 - accuracy: 0.9331 - val_loss: 0.3087 - val_accuracy: 0.8697\n",
      "Epoch 4/10\n",
      "196/196 [==============================] - 57s 290ms/step - loss: 0.1501 - accuracy: 0.9482 - val_loss: 0.3620 - val_accuracy: 0.8634\n",
      "Epoch 5/10\n",
      "196/196 [==============================] - 55s 282ms/step - loss: 0.1207 - accuracy: 0.9600 - val_loss: 0.4139 - val_accuracy: 0.8628\n",
      "Epoch 6/10\n",
      "196/196 [==============================] - 56s 284ms/step - loss: 0.0891 - accuracy: 0.9716 - val_loss: 0.4572 - val_accuracy: 0.8565\n",
      "Epoch 7/10\n",
      "196/196 [==============================] - 56s 284ms/step - loss: 0.0908 - accuracy: 0.9698 - val_loss: 0.4763 - val_accuracy: 0.8548\n",
      "Epoch 8/10\n",
      "196/196 [==============================] - 55s 284ms/step - loss: 0.0689 - accuracy: 0.9790 - val_loss: 0.4824 - val_accuracy: 0.8499\n",
      "Epoch 9/10\n",
      "196/196 [==============================] - 55s 283ms/step - loss: 0.0669 - accuracy: 0.9793 - val_loss: 0.4886 - val_accuracy: 0.8511\n",
      "Epoch 10/10\n",
      "196/196 [==============================] - 55s 282ms/step - loss: 0.0615 - accuracy: 0.9797 - val_loss: 0.6115 - val_accuracy: 0.8472\n",
      "Test Accuracy: 84.72%\n"
     ]
    }
   ],
   "source": [
    "hist_bi = model_bidirectional.fit(X_train, y_train, validation_data=(X_test, y_test), epochs=10, batch_size=128)\n",
    "\n",
    "loss, accuracy = model_bidirectional.evaluate(X_test, y_test, verbose=0)\n",
    "print('Test Accuracy: {:.2f}%'.format(accuracy * 100))"
   ]
  },
  {
   "cell_type": "markdown",
   "id": "6e4d6613",
   "metadata": {},
   "source": [
    "## Deep"
   ]
  },
  {
   "cell_type": "code",
   "execution_count": 46,
   "id": "aa170e0f",
   "metadata": {},
   "outputs": [
    {
     "name": "stdout",
     "output_type": "stream",
     "text": [
      "Model: \"sequential_19\"\n",
      "_________________________________________________________________\n",
      " Layer (type)                Output Shape              Param #   \n",
      "=================================================================\n",
      " embedding_19 (Embedding)    (None, None, 32)          320000    \n",
      "                                                                 \n",
      " lstm_16 (LSTM)              (None, None, 32)          8320      \n",
      "                                                                 \n",
      " lstm_17 (LSTM)              (None, 32)                8320      \n",
      "                                                                 \n",
      " dense_16 (Dense)            (None, 1)                 33        \n",
      "                                                                 \n",
      "=================================================================\n",
      "Total params: 336673 (1.28 MB)\n",
      "Trainable params: 336673 (1.28 MB)\n",
      "Non-trainable params: 0 (0.00 Byte)\n",
      "_________________________________________________________________\n"
     ]
    }
   ],
   "source": [
    "model_deep = Sequential()\n",
    "model_deep.add(Embedding(max_features, 32))\n",
    "model_deep.add(LSTM(32, return_sequences=True))\n",
    "model_deep.add(LSTM(32))\n",
    "model_deep.add(Dense(1, activation='sigmoid'))\n",
    "\n",
    "model_deep.compile(optimizer='adam', loss='binary_crossentropy', metrics=['accuracy'])\n",
    "\n",
    "model_deep.summary()"
   ]
  },
  {
   "cell_type": "code",
   "execution_count": 47,
   "id": "4a8c2eda",
   "metadata": {},
   "outputs": [
    {
     "name": "stdout",
     "output_type": "stream",
     "text": [
      "Epoch 1/10\n",
      "196/196 [==============================] - 75s 365ms/step - loss: 0.4370 - accuracy: 0.7769 - val_loss: 0.3120 - val_accuracy: 0.8704\n",
      "Epoch 2/10\n",
      "196/196 [==============================] - 70s 359ms/step - loss: 0.2335 - accuracy: 0.9101 - val_loss: 0.3693 - val_accuracy: 0.8506\n",
      "Epoch 3/10\n",
      "196/196 [==============================] - 71s 361ms/step - loss: 0.1796 - accuracy: 0.9351 - val_loss: 0.3266 - val_accuracy: 0.8657\n",
      "Epoch 4/10\n",
      "196/196 [==============================] - 72s 370ms/step - loss: 0.1473 - accuracy: 0.9478 - val_loss: 0.3609 - val_accuracy: 0.8583\n",
      "Epoch 5/10\n",
      "196/196 [==============================] - 70s 359ms/step - loss: 0.1132 - accuracy: 0.9630 - val_loss: 0.4752 - val_accuracy: 0.8506\n",
      "Epoch 6/10\n",
      "196/196 [==============================] - 71s 365ms/step - loss: 0.0856 - accuracy: 0.9724 - val_loss: 0.4636 - val_accuracy: 0.8543\n",
      "Epoch 7/10\n",
      "196/196 [==============================] - 72s 366ms/step - loss: 0.0705 - accuracy: 0.9779 - val_loss: 0.5447 - val_accuracy: 0.8494\n",
      "Epoch 8/10\n",
      "196/196 [==============================] - 72s 366ms/step - loss: 0.0639 - accuracy: 0.9806 - val_loss: 0.5286 - val_accuracy: 0.8470\n",
      "Epoch 9/10\n",
      "196/196 [==============================] - 72s 367ms/step - loss: 0.0431 - accuracy: 0.9880 - val_loss: 0.5938 - val_accuracy: 0.8490\n",
      "Epoch 10/10\n",
      "196/196 [==============================] - 72s 366ms/step - loss: 0.0458 - accuracy: 0.9866 - val_loss: 0.6093 - val_accuracy: 0.8458\n",
      "Test Accuracy: 84.58%\n"
     ]
    }
   ],
   "source": [
    "hist_deep = model_deep.fit(X_train, y_train, validation_data=(X_test, y_test), epochs=10, batch_size=128)\n",
    "\n",
    "loss, accuracy = model_deep.evaluate(X_test, y_test, verbose=0)\n",
    "print('Test Accuracy: {:.2f}%'.format(accuracy * 100))"
   ]
  },
  {
   "cell_type": "markdown",
   "id": "868e5bbc",
   "metadata": {},
   "source": [
    "Кожна з моделей має дуже "
   ]
  },
  {
   "cell_type": "code",
   "execution_count": 48,
   "id": "6cbd20f1",
   "metadata": {},
   "outputs": [
    {
     "ename": "NameError",
     "evalue": "name 'pd' is not defined",
     "output_type": "error",
     "traceback": [
      "\u001b[1;31m---------------------------------------------------------------------------\u001b[0m",
      "\u001b[1;31mNameError\u001b[0m                                 Traceback (most recent call last)",
      "Cell \u001b[1;32mIn[48], line 1\u001b[0m\n\u001b[1;32m----> 1\u001b[0m \u001b[43mpd\u001b[49m\u001b[38;5;241m.\u001b[39mDataFrame(hist_rnn\u001b[38;5;241m.\u001b[39mhistory)\u001b[38;5;241m.\u001b[39mplot(figsize\u001b[38;5;241m=\u001b[39m(\u001b[38;5;241m8\u001b[39m, \u001b[38;5;241m5\u001b[39m))\n\u001b[0;32m      2\u001b[0m plt\u001b[38;5;241m.\u001b[39mgrid(\u001b[38;5;28;01mTrue\u001b[39;00m)\n\u001b[0;32m      3\u001b[0m plt\u001b[38;5;241m.\u001b[39mgca()\u001b[38;5;241m.\u001b[39mset_ylim(\u001b[38;5;241m0\u001b[39m, \u001b[38;5;241m1\u001b[39m)\n",
      "\u001b[1;31mNameError\u001b[0m: name 'pd' is not defined"
     ]
    }
   ],
   "source": [
    "pd.DataFrame(hist_rnn.history).plot(figsize=(8, 5))\n",
    "plt.grid(True)\n",
    "plt.gca().set_ylim(0, 1)\n",
    "plt.show()"
   ]
  }
 ],
 "metadata": {
  "kernelspec": {
   "display_name": "Python 3 (ipykernel)",
   "language": "python",
   "name": "python3"
  },
  "language_info": {
   "codemirror_mode": {
    "name": "ipython",
    "version": 3
   },
   "file_extension": ".py",
   "mimetype": "text/x-python",
   "name": "python",
   "nbconvert_exporter": "python",
   "pygments_lexer": "ipython3",
   "version": "3.10.8"
  }
 },
 "nbformat": 4,
 "nbformat_minor": 5
}
